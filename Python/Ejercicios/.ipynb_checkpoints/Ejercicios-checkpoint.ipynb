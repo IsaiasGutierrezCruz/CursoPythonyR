{
 "cells": [
  {
   "cell_type": "markdown",
   "metadata": {},
   "source": [
    "# Esctructuras secuenciales \n",
    "## Ejercicio 1\n",
    "Escribir un programa para mostrar tu nombre completo con bordes de asteriscos (*) alrededor."
   ]
  },
  {
   "cell_type": "code",
   "execution_count": 5,
   "metadata": {},
   "outputs": [
    {
     "name": "stdout",
     "output_type": "stream",
     "text": [
      "Introduzca un nombre: \n",
      "Anahi\n",
      "********************\n",
      "*****Anahi*****\n",
      "********************\n"
     ]
    }
   ],
   "source": [
    "print(\"Introduzca un nombre: \")\n",
    "nombre = input()\n",
    "asteriscos = \"********************\"\n",
    "asteriscos_nom = \"*****\"\n",
    "print(asteriscos)\n",
    "print(asteriscos_nom + nombre + asteriscos_nom)\n",
    "print(asteriscos)"
   ]
  },
  {
   "cell_type": "markdown",
   "metadata": {},
   "source": [
    "# Estructuras condicionales\n",
    "## Ejercicio 2\n",
    "Elaborar un programa que pida al usuario ingresar un número y devolver como respuesta si este número es par o impar.\n",
    "![Imagen](condicional1.png)"
   ]
  },
  {
   "cell_type": "code",
   "execution_count": 17,
   "metadata": {},
   "outputs": [
    {
     "name": "stdout",
     "output_type": "stream",
     "text": [
      "Ingresa un número entero: \n",
      "3\n",
      "Este número no es par\n"
     ]
    }
   ],
   "source": [
    "print(\"Ingresa un número entero: \")\n",
    "num = input()\n",
    "num = int(num)\n",
    "\n",
    "if (num%2 == 0): \n",
    "    print(\"Este número es par: \")\n",
    "else: \n",
    "    print(\"Este número no es par\")"
   ]
  },
  {
   "cell_type": "markdown",
   "metadata": {},
   "source": [
    "# Estructuras repetitivas \n",
    "## Ejercicio 1\n",
    "Escribe un programa que pida un número por teclado, si el número es negativo volver a pedirlo y así sucesivamente hasta que el usuario ingrese un número positivo. Por último con el número ingresado correctamente calcular su raíz cuadrada\n",
    "![Imagen](bucles1.png)"
   ]
  },
  {
   "cell_type": "code",
   "execution_count": 25,
   "metadata": {},
   "outputs": [
    {
     "name": "stdout",
     "output_type": "stream",
     "text": [
      "Digite un número\n",
      "-5\n",
      "Digite un número positivo\n",
      "-2\n",
      "Digite un número positivo\n",
      "-3\n",
      "Digite un número positivo\n",
      "5\n",
      "2.23606797749979\n"
     ]
    }
   ],
   "source": [
    "import math\n",
    "print(\"Digite un número\")\n",
    "num = input()\n",
    "num = int(num)\n",
    "while (num <= 0):\n",
    "    print(\"Digite un número positivo\")\n",
    "    num = input()\n",
    "    num = int(num)\n",
    "print(math.sqrt(num))"
   ]
  },
  {
   "cell_type": "markdown",
   "metadata": {},
   "source": [
    "## Arrays\n",
    "### Ejercicio 1  \n",
    "Ejercicio 1: Dado una serie de números ingresados por el usuario, elaborar un programa que coloque estos números en un array de integers y que encuentre la suma de sus elementos. Además de determinar si existen elementos repetidos."
   ]
  },
  {
   "cell_type": "code",
   "execution_count": 17,
   "metadata": {},
   "outputs": [
    {
     "name": "stdout",
     "output_type": "stream",
     "text": [
      "Ingrese una serie de número en una sola linea\n",
      "5 4 5\n",
      "El total es: \n",
      "14\n",
      "El número de repetidos es:\n",
      "0\n"
     ]
    }
   ],
   "source": [
    "print(\"Ingrese una serie de número en una sola linea\")\n",
    "numeros = input()\n",
    "lista_numeros = numeros.split()\n",
    "repetidos = 0\n",
    "total = 0\n",
    "variable_anterior = \"\"\n",
    "\n",
    "for i in lista_numeros:\n",
    "    total = total + int(i)\n",
    "    if variable_anterior == i:\n",
    "        repetidos = repetidos + 1\n",
    "    variable_anterior = i \n",
    "\n",
    "\n",
    "print(\"El total es: \")\n",
    "print(total) \n",
    "print(\"El número de repetidos es:\")\n",
    "print(repetidos)"
   ]
  },
  {
   "cell_type": "markdown",
   "metadata": {},
   "source": [
    "## Dataframes"
   ]
  },
  {
   "cell_type": "markdown",
   "metadata": {},
   "source": [
    "### Ejercicio 1\n",
    "Diseñar un algoritmo que pregunte al usuario el número de ingresos que tuvo el año pasado, posteriormente solicitar al usuario la cantidad de ingresos y el mes de cada uno de ellos, los cuales se guardaran en columnas distintas. Por ultimo, calcular los impuestos del 15% a los ingresos en una nueva columna llamada impuestos. "
   ]
  },
  {
   "cell_type": "code",
   "execution_count": 46,
   "metadata": {},
   "outputs": [
    {
     "name": "stdout",
     "output_type": "stream",
     "text": [
      "Introduce el número de ingresos del año pasado: 3\n",
      "Ingrese la cantidad de su ingreso número 1: 1456456\n",
      "Ingrese el mes de su ingreso número 1: Junio\n",
      "Ingrese la cantidad de su ingreso número 2: 12131321\n",
      "Ingrese el mes de su ingreso número 2: Marzo\n",
      "Ingrese la cantidad de su ingreso número 3: 13132132\n",
      "Ingrese el mes de su ingreso número 3: Enero\n",
      "   Cantidad    Mes   Impuestos\n",
      "0   1456456  Junio   218468.40\n",
      "1  12131321  Marzo  1819698.15\n",
      "2  13132132  Enero  1969819.80\n"
     ]
    }
   ],
   "source": [
    "import pandas as pd\n",
    "num_ingresos = int(input(\"Introduce el número de ingresos del año pasado: \"))\n",
    "ingresos = {\"Cantidad\": [], \"Mes\": []}\n",
    "for i in range(0, num_ingresos):\n",
    "    cantidad = int(input(\"Ingrese la cantidad de su ingreso número \" + str(i + 1) + \": \"))\n",
    "    ingresos[\"Cantidad\"].append(cantidad)\n",
    "    mes = input(\"Ingrese el mes de su ingreso número \" + str(i + 1) + \": \")\n",
    "    ingresos[\"Mes\"].append(mes)\n",
    "ingresos = pd.DataFrame(ingresos)\n",
    "ingresos[\"Impuestos\"] = ingresos[\"Cantidad\"]*0.15\n",
    "print(ingresos)"
   ]
  },
  {
   "cell_type": "code",
   "execution_count": null,
   "metadata": {},
   "outputs": [],
   "source": []
  }
 ],
 "metadata": {
  "kernelspec": {
   "display_name": "Python 3",
   "language": "python",
   "name": "python3"
  },
  "language_info": {
   "codemirror_mode": {
    "name": "ipython",
    "version": 3
   },
   "file_extension": ".py",
   "mimetype": "text/x-python",
   "name": "python",
   "nbconvert_exporter": "python",
   "pygments_lexer": "ipython3",
   "version": "3.8.5"
  }
 },
 "nbformat": 4,
 "nbformat_minor": 4
}
