{
 "cells": [
  {
   "cell_type": "markdown",
   "metadata": {},
   "source": [
    "# Esctructuras secuenciales \n",
    "## Ejercicio 1\n",
    "Escribir un programa para mostrar tu nombre completo con bordes de asteriscos (*) alrededor."
   ]
  },
  {
   "cell_type": "code",
   "execution_count": 5,
   "metadata": {},
   "outputs": [
    {
     "name": "stdout",
     "output_type": "stream",
     "text": [
      "Introduzca un nombre: \n",
      "Anahi\n",
      "********************\n",
      "*****Anahi*****\n",
      "********************\n"
     ]
    }
   ],
   "source": [
    "print(\"Introduzca un nombre: \")\n",
    "nombre = input()\n",
    "asteriscos = \"********************\"\n",
    "asteriscos_nom = \"*****\"\n",
    "print(asteriscos)\n",
    "print(asteriscos_nom + nombre + asteriscos_nom)\n",
    "print(asteriscos)"
   ]
  },
  {
   "cell_type": "markdown",
   "metadata": {},
   "source": [
    "## Ejercicio 2\n",
    "Elaborar un programa que pida al usuario ingresar un número y devolver como respuesta si este número es par o impar.\n",
    "![Imagen](condicional1.png)"
   ]
  },
  {
   "cell_type": "code",
   "execution_count": 17,
   "metadata": {},
   "outputs": [
    {
     "name": "stdout",
     "output_type": "stream",
     "text": [
      "Ingresa un número entero: \n",
      "3\n",
      "Este número no es par\n"
     ]
    }
   ],
   "source": [
    "print(\"Ingresa un número entero: \")\n",
    "num = input()\n",
    "num = int(num)\n",
    "\n",
    "if (num%2 == 0): \n",
    "    print(\"Este número es par: \")\n",
    "else: \n",
    "    print(\"Este número no es par\")"
   ]
  },
  {
   "cell_type": "markdown",
   "metadata": {},
   "source": [
    "## Estructuras repetitivas \n",
    "### Ejercicio 1\n",
    "Escribe un programa que pida un número por teclado, si el número es negativo volver a pedirlo y así sucesivamente hasta que el usuario ingrese un número positivo. Por último con el número ingresado correctamente calcular su raíz cuadrada\n",
    "![Imagen](bucles1.png)"
   ]
  },
  {
   "cell_type": "code",
   "execution_count": 25,
   "metadata": {},
   "outputs": [
    {
     "name": "stdout",
     "output_type": "stream",
     "text": [
      "Digite un número\n",
      "-5\n",
      "Digite un número positivo\n",
      "-2\n",
      "Digite un número positivo\n",
      "-3\n",
      "Digite un número positivo\n",
      "5\n",
      "2.23606797749979\n"
     ]
    }
   ],
   "source": [
    "import math\n",
    "print(\"Digite un número\")\n",
    "num = input()\n",
    "num = int(num)\n",
    "while (num <= 0):\n",
    "    print(\"Digite un número positivo\")\n",
    "    num = input()\n",
    "    num = int(num)\n",
    "print(math.sqrt(num))"
   ]
  }
 ],
 "metadata": {
  "kernelspec": {
   "display_name": "Python 3",
   "language": "python",
   "name": "python3"
  },
  "language_info": {
   "codemirror_mode": {
    "name": "ipython",
    "version": 3
   },
   "file_extension": ".py",
   "mimetype": "text/x-python",
   "name": "python",
   "nbconvert_exporter": "python",
   "pygments_lexer": "ipython3",
   "version": "3.8.5"
  }
 },
 "nbformat": 4,
 "nbformat_minor": 4
}
