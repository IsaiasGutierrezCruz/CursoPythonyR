{
 "cells": [
  {
   "cell_type": "markdown",
   "metadata": {},
   "source": [
    "# POO\n",
    "## Creación de la clase"
   ]
  },
  {
   "cell_type": "code",
   "execution_count": 6,
   "metadata": {},
   "outputs": [],
   "source": [
    "class Empleado:\n",
    "    # atributos \n",
    "    ID = None\n",
    "    salario = None\n",
    "    departamento = None"
   ]
  },
  {
   "cell_type": "markdown",
   "metadata": {},
   "source": [
    "Instanciando un objeto (Ricardo)"
   ]
  },
  {
   "cell_type": "code",
   "execution_count": 2,
   "metadata": {},
   "outputs": [],
   "source": [
    "Ricardo = Empleado()"
   ]
  },
  {
   "cell_type": "code",
   "execution_count": 4,
   "metadata": {},
   "outputs": [],
   "source": [
    "Ricardo.ID = 567812"
   ]
  },
  {
   "cell_type": "code",
   "execution_count": 5,
   "metadata": {},
   "outputs": [
    {
     "data": {
      "text/plain": [
       "567812"
      ]
     },
     "execution_count": 5,
     "metadata": {},
     "output_type": "execute_result"
    }
   ],
   "source": [
    "Ricardo.ID"
   ]
  },
  {
   "cell_type": "markdown",
   "metadata": {},
   "source": [
    "### Método constructor"
   ]
  },
  {
   "cell_type": "code",
   "execution_count": null,
   "metadata": {},
   "outputs": [],
   "source": [
    "class Empleado:\n",
    "    # atributos \n",
    "    def __init__(self, ID, salario, departamento):\n",
    "        self.ID = ID\n",
    "        self.salario = salario\n",
    "        self.departamento = departamento"
   ]
  },
  {
   "cell_type": "code",
   "execution_count": 7,
   "metadata": {},
   "outputs": [],
   "source": [
    "Ricardo = Empleado(52689, 300, \"Finanzas\")"
   ]
  },
  {
   "cell_type": "code",
   "execution_count": 9,
   "metadata": {},
   "outputs": [
    {
     "name": "stdout",
     "output_type": "stream",
     "text": [
      "52689\n",
      "300\n",
      "Finanzas\n"
     ]
    }
   ],
   "source": [
    "print(Ricardo.ID)\n",
    "print(Ricardo.salario)\n",
    "print(Ricardo.departamento)"
   ]
  },
  {
   "cell_type": "markdown",
   "metadata": {},
   "source": [
    "Atributos opcionales "
   ]
  },
  {
   "cell_type": "code",
   "execution_count": 10,
   "metadata": {},
   "outputs": [],
   "source": [
    "class Empleado:\n",
    "    # atributos \n",
    "    def __init__(self, ID = 11111, salario = 200, departamento = \"Marketing\"):\n",
    "        self.ID = ID\n",
    "        self.salario = salario\n",
    "        self.departamento = departamento"
   ]
  },
  {
   "cell_type": "code",
   "execution_count": 11,
   "metadata": {},
   "outputs": [],
   "source": [
    "Ricardo = Empleado()"
   ]
  },
  {
   "cell_type": "code",
   "execution_count": 12,
   "metadata": {},
   "outputs": [
    {
     "data": {
      "text/plain": [
       "11111"
      ]
     },
     "execution_count": 12,
     "metadata": {},
     "output_type": "execute_result"
    }
   ],
   "source": [
    "Ricardo.ID"
   ]
  },
  {
   "cell_type": "markdown",
   "metadata": {},
   "source": [
    "### Agregar métodos a la clase"
   ]
  },
  {
   "cell_type": "code",
   "execution_count": 13,
   "metadata": {},
   "outputs": [],
   "source": [
    "class Empleado:\n",
    "    # atributos \n",
    "    def __init__(self, ID = 11111, salario = 200, departamento = \"Marketing\"):\n",
    "        self.ID = ID\n",
    "        self.salario = salario\n",
    "        self.departamento = departamento\n",
    "        \n",
    "    # métodos \n",
    "    def salarioPorDia(self):\n",
    "        return (self.salario/30)\n",
    "    \n",
    "    def impuestos(self):\n",
    "        return (self.salario*0.2)"
   ]
  },
  {
   "cell_type": "code",
   "execution_count": 14,
   "metadata": {},
   "outputs": [],
   "source": [
    "Ricardo = Empleado(564464, 300, \"Finanzas\")"
   ]
  },
  {
   "cell_type": "code",
   "execution_count": 15,
   "metadata": {
    "scrolled": true
   },
   "outputs": [
    {
     "name": "stdout",
     "output_type": "stream",
     "text": [
      "564464\n",
      "300\n",
      "Finanzas\n",
      "60.0\n",
      "10.0\n"
     ]
    }
   ],
   "source": [
    "print(Ricardo.ID)\n",
    "print(Ricardo.salario)\n",
    "print(Ricardo.departamento)\n",
    "print(Ricardo.impuestos())\n",
    "print(Ricardo.salarioPorDia())"
   ]
  },
  {
   "cell_type": "markdown",
   "metadata": {},
   "source": [
    "## Herencia "
   ]
  },
  {
   "cell_type": "code",
   "execution_count": 16,
   "metadata": {},
   "outputs": [],
   "source": [
    "class Vehiculo: \n",
    "    def __init__(self, marca, color, modelo):\n",
    "        self.marca = marca\n",
    "        self.color = color\n",
    "        self.modelo = modelo \n",
    "    # metodos \n",
    "    def imprimirDetalles(self):\n",
    "        print(\"Productor: \", self.marca)\n",
    "        print(\"Color: \", self.color)\n",
    "        print(\"Modelo:\", self.modelo)"
   ]
  },
  {
   "cell_type": "code",
   "execution_count": 17,
   "metadata": {},
   "outputs": [],
   "source": [
    "obj1 = Vehiculo(\"Suzuki\", \"Gris\", \"2016\")"
   ]
  },
  {
   "cell_type": "code",
   "execution_count": 18,
   "metadata": {},
   "outputs": [
    {
     "name": "stdout",
     "output_type": "stream",
     "text": [
      "Productor:  Suzuki\n",
      "Color:  Gris\n",
      "Modelo: 2016\n"
     ]
    }
   ],
   "source": [
    "obj1.imprimirDetalles()"
   ]
  },
  {
   "cell_type": "code",
   "execution_count": 21,
   "metadata": {},
   "outputs": [],
   "source": [
    "class Carro(Vehiculo):\n",
    "    def __init__(self, marca, color, modelo, puertas):\n",
    "        self.marca = marca\n",
    "        self.color = color\n",
    "        self.modelo = modelo \n",
    "        self.puertas = puertas\n",
    "    \n",
    "    def imprimirDetallesCarro(self):\n",
    "        print(\"Productor: \", self.marca)\n",
    "        print(\"Color: \", self.color)\n",
    "        print(\"Modelo:\", self.modelo)\n",
    "        print(\"Puertas: \", self.puertas)"
   ]
  },
  {
   "cell_type": "code",
   "execution_count": 22,
   "metadata": {},
   "outputs": [],
   "source": [
    "obj1 = Carro(\"Suzuki\", \"Gris\", \"2016\", 4)"
   ]
  },
  {
   "cell_type": "code",
   "execution_count": 23,
   "metadata": {},
   "outputs": [
    {
     "name": "stdout",
     "output_type": "stream",
     "text": [
      "Productor:  Suzuki\n",
      "Color:  Gris\n",
      "Modelo: 2016\n",
      "Puertas:  4\n"
     ]
    }
   ],
   "source": [
    "obj1.imprimirDetallesCarro()"
   ]
  },
  {
   "cell_type": "markdown",
   "metadata": {},
   "source": [
    "Hacer uso de el constructor y los metodos de la clase padre"
   ]
  },
  {
   "cell_type": "code",
   "execution_count": 27,
   "metadata": {},
   "outputs": [],
   "source": [
    "class Carro(Vehiculo):\n",
    "    def __init__(self, marca, color, modelo, puertas):\n",
    "        Vehiculo.__init__(self, marca, color, modelo)\n",
    "        self.puertas = puertas\n",
    "    \n",
    "    def imprimirDetallesCarro(self):\n",
    "        self.imprimirDetalles()\n",
    "        print(\"Puertas: \", self.puertas)"
   ]
  },
  {
   "cell_type": "code",
   "execution_count": 28,
   "metadata": {},
   "outputs": [],
   "source": [
    "obj1 = Carro(\"Suzuki\", \"Gris\", \"2016\", 4)"
   ]
  },
  {
   "cell_type": "code",
   "execution_count": 29,
   "metadata": {},
   "outputs": [
    {
     "name": "stdout",
     "output_type": "stream",
     "text": [
      "Productor:  Suzuki\n",
      "Color:  Gris\n",
      "Modelo: 2016\n",
      "Puertas:  4\n"
     ]
    }
   ],
   "source": [
    "obj1.imprimirDetallesCarro()"
   ]
  }
 ],
 "metadata": {
  "kernelspec": {
   "display_name": "Python 3",
   "language": "python",
   "name": "python3"
  },
  "language_info": {
   "codemirror_mode": {
    "name": "ipython",
    "version": 3
   },
   "file_extension": ".py",
   "mimetype": "text/x-python",
   "name": "python",
   "nbconvert_exporter": "python",
   "pygments_lexer": "ipython3",
   "version": "3.8.5"
  }
 },
 "nbformat": 4,
 "nbformat_minor": 4
}
