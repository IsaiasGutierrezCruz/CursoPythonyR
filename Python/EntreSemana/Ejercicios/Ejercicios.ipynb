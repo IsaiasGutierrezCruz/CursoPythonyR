{
 "cells": [
  {
   "cell_type": "markdown",
   "metadata": {},
   "source": [
    "# Esctructuras secuenciales \n",
    "## Ejercicio 1\n",
    "Escribir un programa para mostrar tu nombre completo con bordes de asteriscos (*) alrededor."
   ]
  },
  {
   "cell_type": "code",
   "execution_count": 5,
   "metadata": {},
   "outputs": [
    {
     "name": "stdout",
     "output_type": "stream",
     "text": [
      "Introduzca un nombre: \n",
      "Anahi\n",
      "********************\n",
      "*****Anahi*****\n",
      "********************\n"
     ]
    }
   ],
   "source": [
    "print(\"Introduzca un nombre: \")\n",
    "nombre = input()\n",
    "asteriscos = \"********************\"\n",
    "asteriscos_nom = \"*****\"\n",
    "print(asteriscos)\n",
    "print(asteriscos_nom + nombre + asteriscos_nom)\n",
    "print(asteriscos)"
   ]
  },
  {
   "cell_type": "markdown",
   "metadata": {},
   "source": [
    "# Estructuras condicionales\n",
    "## Ejercicio 2\n",
    "Elaborar un programa que pida al usuario ingresar un número y devolver como respuesta si este número es par o impar.\n",
    "![Imagen](condicional1.png)"
   ]
  },
  {
   "cell_type": "code",
   "execution_count": 17,
   "metadata": {},
   "outputs": [
    {
     "name": "stdout",
     "output_type": "stream",
     "text": [
      "Ingresa un número entero: \n",
      "3\n",
      "Este número no es par\n"
     ]
    }
   ],
   "source": [
    "print(\"Ingresa un número entero: \")\n",
    "num = input()\n",
    "num = int(num)\n",
    "\n",
    "if (num%2 == 0): \n",
    "    print(\"Este número es par: \")\n",
    "else: \n",
    "    print(\"Este número no es par\")"
   ]
  },
  {
   "cell_type": "markdown",
   "metadata": {},
   "source": [
    "# Estructuras repetitivas \n",
    "## Ejercicio 1\n",
    "Escribe un programa que pida un número por teclado, si el número es negativo volver a pedirlo y así sucesivamente hasta que el usuario ingrese un número positivo. Por último con el número ingresado correctamente calcular su raíz cuadrada\n",
    "![Imagen](bucles1.png)"
   ]
  },
  {
   "cell_type": "code",
   "execution_count": 25,
   "metadata": {},
   "outputs": [
    {
     "name": "stdout",
     "output_type": "stream",
     "text": [
      "Digite un número\n",
      "-5\n",
      "Digite un número positivo\n",
      "-2\n",
      "Digite un número positivo\n",
      "-3\n",
      "Digite un número positivo\n",
      "5\n",
      "2.23606797749979\n"
     ]
    }
   ],
   "source": [
    "import math\n",
    "print(\"Digite un número\")\n",
    "num = input()\n",
    "num = int(num)\n",
    "while (num <= 0):\n",
    "    print(\"Digite un número positivo\")\n",
    "    num = input()\n",
    "    num = int(num)\n",
    "print(math.sqrt(num))"
   ]
  },
  {
   "cell_type": "markdown",
   "metadata": {},
   "source": [
    "## Arrays\n",
    "### Ejercicio 1  \n",
    "Dado una serie de números ingresados por el usuario, elaborar un programa que coloque estos números en un array de integers y que encuentre la suma de sus elementos. Además de determinar si existen elementos repetidos.\n",
    "![Imagen](Ejercicio1Arrays.png)"
   ]
  },
  {
   "cell_type": "code",
   "execution_count": 17,
   "metadata": {},
   "outputs": [
    {
     "name": "stdout",
     "output_type": "stream",
     "text": [
      "Ingrese una serie de número en una sola linea\n",
      "5 4 5\n",
      "El total es: \n",
      "14\n",
      "El número de repetidos es:\n",
      "0\n"
     ]
    }
   ],
   "source": [
    "print(\"Ingrese una serie de número en una sola linea\")\n",
    "numeros = input()\n",
    "lista_numeros = numeros.split()\n",
    "repetidos = 0\n",
    "total = 0\n",
    "variable_anterior = \"\"\n",
    "\n",
    "for i in lista_numeros:\n",
    "    total = total + int(i)\n",
    "    if variable_anterior == i:\n",
    "        repetidos = repetidos + 1\n",
    "    variable_anterior = i \n",
    "\n",
    "\n",
    "print(\"El total es: \")\n",
    "print(total) \n",
    "print(\"El número de repetidos es:\")\n",
    "print(repetidos)"
   ]
  },
  {
   "cell_type": "markdown",
   "metadata": {},
   "source": [
    "### Ejercicio 2\n",
    "Elaborar un algoritmo que cree un array unidimensional con un tamaño de 10 con los valores que ingrese el usuario. Por último calcular la suma y promedio de todos ellos.\n",
    "![Imagen](Ejercicio2Arrays.png)"
   ]
  },
  {
   "cell_type": "code",
   "execution_count": 13,
   "metadata": {},
   "outputs": [
    {
     "name": "stdout",
     "output_type": "stream",
     "text": [
      "Ingrese 10 elementos numericos: \n",
      "Ingrese el digito numero  1\n",
      "45\n",
      "Ingrese el digito numero  2\n",
      "2\n",
      "Ingrese el digito numero  3\n",
      "3\n",
      "Ingrese el digito numero  4\n",
      "36\n",
      "Ingrese el digito numero  5\n",
      "35\n",
      "Ingrese el digito numero  6\n",
      "21\n",
      "Ingrese el digito numero  7\n",
      "14\n",
      "Ingrese el digito numero  8\n",
      "25\n",
      "Ingrese el digito numero  9\n",
      "25\n",
      "Ingrese el digito numero  10\n",
      "2\n",
      "La suma total es 208\n",
      "El promedio de los elementos es 20.8\n"
     ]
    }
   ],
   "source": [
    "print(\"Ingrese 10 elementos numericos: \")\n",
    "i = 1\n",
    "lista_numeros = []\n",
    "\n",
    "# pide al usuario ingresar 10 numeros\n",
    "while (i <= 10):\n",
    "    print(\"Ingrese el digito numero \", i)\n",
    "    lista_numeros.append(input())\n",
    "    i = i + 1\n",
    "    \n",
    "total = 0\n",
    "\n",
    "# calcula la suma de todos los elementos que ingreso el usuario\n",
    "for i in lista_numeros: \n",
    "    total = total + int(i)\n",
    "    \n",
    "promedio = total / len(lista_numeros)\n",
    "\n",
    "print(\"La suma total es\", total)\n",
    "print(\"El promedio de los elementos es\", promedio)"
   ]
  },
  {
   "cell_type": "code",
   "execution_count": 12,
   "metadata": {},
   "outputs": [
    {
     "data": {
      "text/plain": [
       "3"
      ]
     },
     "execution_count": 12,
     "metadata": {},
     "output_type": "execute_result"
    }
   ],
   "source": [
    "len(lista_numeros)"
   ]
  },
  {
   "cell_type": "markdown",
   "metadata": {},
   "source": [
    "## Matrices"
   ]
  },
  {
   "cell_type": "markdown",
   "metadata": {},
   "source": [
    "### Ejercicio 1\n",
    "Elaborar un programa que pida al usuario los números suficientes para crear una matriz de 4× 4. Posteriormente deberá determinar la suma de los elementos mayores a 2."
   ]
  },
  {
   "cell_type": "code",
   "execution_count": 27,
   "metadata": {},
   "outputs": [
    {
     "name": "stdout",
     "output_type": "stream",
     "text": [
      "Digite 16 números enteros para realizar la suma\n",
      "Ingrese su siguiente elemento3\n",
      "Ingrese su siguiente elemento1\n",
      "Ingrese su siguiente elemento1\n",
      "Ingrese su siguiente elemento1\n",
      "Ingrese su siguiente elemento1\n",
      "Ingrese su siguiente elemento1\n",
      "Ingrese su siguiente elemento1\n",
      "Ingrese su siguiente elemento1\n",
      "Ingrese su siguiente elemento1\n",
      "Ingrese su siguiente elemento1\n",
      "Ingrese su siguiente elemento1\n",
      "Ingrese su siguiente elemento1\n",
      "Ingrese su siguiente elemento1\n",
      "Ingrese su siguiente elemento1\n",
      "Ingrese su siguiente elemento1\n",
      "Ingrese su siguiente elemento1\n",
      "La suma total es:  3\n"
     ]
    }
   ],
   "source": [
    "print(\"Digite 16 números enteros para realizar la suma\")\n",
    "matriz = list()\n",
    "matriz.append([])\n",
    "matriz.append([])\n",
    "matriz.append([])\n",
    "matriz.append([])\n",
    "for i in range(0, 4):\n",
    "    for j in range(0, 4):\n",
    "        matriz[i].append(int(input(\"Ingrese su siguiente elemento \")))\n",
    "        \n",
    "sumaTotal = 0\n",
    "\n",
    "for i in range(0,4):\n",
    "    for j in range(0, 4):\n",
    "        if (matriz[i][j] > 2):\n",
    "            sumaTotal = sumaTotal + matriz[i][j]\n",
    "            \n",
    "print(\"La suma total es: \", sumaTotal)"
   ]
  },
  {
   "cell_type": "code",
   "execution_count": 14,
   "metadata": {},
   "outputs": [
    {
     "name": "stdout",
     "output_type": "stream",
     "text": [
      "Ingrese su siguiente elemento5\n",
      "Ingrese su siguiente elemento6\n",
      "Ingrese su siguiente elemento8\n",
      "Ingrese su siguiente elemento4\n",
      "Ingrese su siguiente elemento5\n",
      "Ingrese su siguiente elemento6\n",
      "Ingrese su siguiente elemento5\n",
      "Ingrese su siguiente elemento5\n",
      "Ingrese su siguiente elemento5\n",
      "Ingrese su siguiente elemento5\n",
      "Ingrese su siguiente elemento5\n",
      "Ingrese su siguiente elemento55\n",
      "Ingrese su siguiente elemento5\n",
      "Ingrese su siguiente elemento5\n",
      "Ingrese su siguiente elemento5\n",
      "Ingrese su siguiente elemento5\n"
     ]
    }
   ],
   "source": [
    "for i in range(0, 4):\n",
    "    for j in range(0, 4):\n",
    "        matriz[i].append(int(input(\"Ingrese su siguiente elemento\")))\n",
    "        \n"
   ]
  },
  {
   "cell_type": "code",
   "execution_count": 21,
   "metadata": {},
   "outputs": [
    {
     "data": {
      "text/plain": [
       "[[5, 6, 9, 8], [1, 0, 2, 3], [5, 6, 8, 4], [4, 5, 2, 0]]"
      ]
     },
     "execution_count": 21,
     "metadata": {},
     "output_type": "execute_result"
    }
   ],
   "source": [
    "matriz\n"
   ]
  },
  {
   "cell_type": "code",
   "execution_count": 28,
   "metadata": {},
   "outputs": [
    {
     "name": "stdout",
     "output_type": "stream",
     "text": [
      "Ingrese su siguiente elemento1\n",
      "Ingrese su siguiente elemento2\n",
      "Ingrese su siguiente elemento3\n",
      "Ingrese su siguiente elemento4\n"
     ]
    }
   ],
   "source": [
    "for i in range(0, 4):\n",
    "    matriz[i].append(int(input(\"Ingrese su siguiente elemento\")))"
   ]
  },
  {
   "cell_type": "code",
   "execution_count": 24,
   "metadata": {},
   "outputs": [
    {
     "data": {
      "text/plain": [
       "63"
      ]
     },
     "execution_count": 24,
     "metadata": {},
     "output_type": "execute_result"
    }
   ],
   "source": [
    "sumaTotal"
   ]
  },
  {
   "cell_type": "markdown",
   "metadata": {},
   "source": [
    "## Dataframes"
   ]
  },
  {
   "cell_type": "markdown",
   "metadata": {},
   "source": [
    "### Ejercicio 1\n",
    "Diseñar un algoritmo que pregunte al usuario el número de ingresos que tuvo el año pasado, posteriormente solicitar al usuario la cantidad de ingresos y el mes de cada uno de ellos, los cuales se guardaran en columnas distintas. Por ultimo, calcular los impuestos del 15% a los ingresos en una nueva columna llamada impuestos. "
   ]
  },
  {
   "cell_type": "code",
   "execution_count": 46,
   "metadata": {},
   "outputs": [
    {
     "name": "stdout",
     "output_type": "stream",
     "text": [
      "Introduce el número de ingresos del año pasado: 3\n",
      "Ingrese la cantidad de su ingreso número 1: 1456456\n",
      "Ingrese el mes de su ingreso número 1: Junio\n",
      "Ingrese la cantidad de su ingreso número 2: 12131321\n",
      "Ingrese el mes de su ingreso número 2: Marzo\n",
      "Ingrese la cantidad de su ingreso número 3: 13132132\n",
      "Ingrese el mes de su ingreso número 3: Enero\n",
      "   Cantidad    Mes   Impuestos\n",
      "0   1456456  Junio   218468.40\n",
      "1  12131321  Marzo  1819698.15\n",
      "2  13132132  Enero  1969819.80\n"
     ]
    }
   ],
   "source": [
    "import pandas as pd\n",
    "num_ingresos = int(input(\"Introduce el número de ingresos del año pasado: \"))\n",
    "ingresos = {\"Cantidad\": [], \"Mes\": []}\n",
    "for i in range(0, num_ingresos):\n",
    "    cantidad = int(input(\"Ingrese la cantidad de su ingreso número \" + str(i + 1) + \": \"))\n",
    "    ingresos[\"Cantidad\"].append(cantidad)\n",
    "    mes = input(\"Ingrese el mes de su ingreso número \" + str(i + 1) + \": \")\n",
    "    ingresos[\"Mes\"].append(mes)\n",
    "ingresos = pd.DataFrame(ingresos)\n",
    "ingresos[\"Impuestos\"] = ingresos[\"Cantidad\"]*0.15\n",
    "print(ingresos)"
   ]
  },
  {
   "cell_type": "markdown",
   "metadata": {},
   "source": [
    "## Ejercicio 2\n",
    "El siguiente archivo contiene datos del titanic [datos_titanic](). Escribir el código necesario para obtener los siguientes puntos: \n",
    "\n",
    "- Generar un DataFrame con los datos del archivo. \n",
    "- Obtener por pantalla las dimensiones del DataFrame, el número de datos que contiene, los nombres de sus columnas y filas, los tipos de datos de las columnas, las 5 primeras filas y las 5 últimas filas.\n",
    "- Obtener la edad y sexo del pasajero con identificador 891, 564, 324 y 31\n",
    "- Obtener las filas que son multiplos de 10 del DataFrame.\n",
    "- Obtener los nombres de las personas que iban en primera clase ordenadas alfabéticamente de forma decreciente\n",
    "- Obtener el porcentaje de personas que sobrevivieron y murieron.\n",
    "- Obtener el porcentaje de personas segun su sexo \n",
    "- Eliminar del DataFrame los pasajeros con edad desconocida.\n",
    "- Mostrar por pantalla la edad media de las mujeres que viajaban en cada clase.\n",
    "- Añadir una nueva columna booleana para ver si el pasajero era menor de edad o no.\n",
    "- Mostrar por pantalla el porcentaje de menores y mayores de edad que sobrevivieron en cada clase."
   ]
  }
 ],
 "metadata": {
  "kernelspec": {
   "display_name": "Python 3",
   "language": "python",
   "name": "python3"
  },
  "language_info": {
   "codemirror_mode": {
    "name": "ipython",
    "version": 3
   },
   "file_extension": ".py",
   "mimetype": "text/x-python",
   "name": "python",
   "nbconvert_exporter": "python",
   "pygments_lexer": "ipython3",
   "version": "3.8.5"
  }
 },
 "nbformat": 4,
 "nbformat_minor": 4
}
